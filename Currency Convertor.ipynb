{
 "cells": [
  {
   "cell_type": "code",
   "execution_count": 14,
   "id": "a9ba8512",
   "metadata": {},
   "outputs": [],
   "source": [
    "import requests\n",
    "import json"
   ]
  },
  {
   "cell_type": "code",
   "execution_count": 30,
   "id": "20a1a43e",
   "metadata": {},
   "outputs": [],
   "source": [
    "url = \"http://api.exchangeratesapi.io/latest\"\n",
    "response = requests.get(url)"
   ]
  },
  {
   "cell_type": "code",
   "execution_count": 31,
   "id": "20e806af",
   "metadata": {},
   "outputs": [
    {
     "data": {
      "text/plain": [
       "True"
      ]
     },
     "execution_count": 31,
     "metadata": {},
     "output_type": "execute_result"
    }
   ],
   "source": [
    "response.ok"
   ]
  },
  {
   "cell_type": "code",
   "execution_count": 32,
   "id": "21e52425",
   "metadata": {
    "scrolled": true
   },
   "outputs": [
    {
     "data": {
      "text/plain": [
       "200"
      ]
     },
     "execution_count": 32,
     "metadata": {},
     "output_type": "execute_result"
    }
   ],
   "source": [
    "response.status_code"
   ]
  },
  {
   "cell_type": "code",
   "execution_count": 33,
   "id": "af299861",
   "metadata": {},
   "outputs": [
    {
     "name": "stdout",
     "output_type": "stream",
     "text": [
      "{\n",
      "    \"success\": false,\n",
      "    \"error\": {\n",
      "        \"code\": 101,\n",
      "        \"type\": \"missing_access_key\",\n",
      "        \"info\": \"You have not supplied an API Access Key. [Required format: access_key=YOUR_ACCESS_KEY]\"\n",
      "    }\n",
      "}\n"
     ]
    }
   ],
   "source": [
    "print(json.dumps(response.json(), indent = 4))"
   ]
  },
  {
   "cell_type": "code",
   "execution_count": 34,
   "id": "a4c489b0",
   "metadata": {},
   "outputs": [
    {
     "data": {
      "text/plain": [
       "dict_keys(['success', 'error'])"
      ]
     },
     "execution_count": 34,
     "metadata": {},
     "output_type": "execute_result"
    }
   ],
   "source": [
    "response.json().keys()"
   ]
  },
  {
   "cell_type": "code",
   "execution_count": 35,
   "id": "94469f8a",
   "metadata": {},
   "outputs": [
    {
     "name": "stdout",
     "output_type": "stream",
     "text": [
      "Please enter the date (in the format 'yyyy-mm-dd' or 'lastest')2009-07-03\n",
      "Convert from (currency): GBP\n",
      "Convert to (currency): USD\n",
      "How much GBP do you want to convert: 26.0\n"
     ]
    }
   ],
   "source": [
    "date = input(\"Please enter the date (in the format 'yyyy-mm-dd' or 'lastest')\")\n",
    "base = input(\"Convert from (currency): \")\n",
    "curr = input(\"Convert to (currency): \")\n",
    "quan = float(input(\"How much {} do you want to convert: \".format(base)))"
   ]
  },
  {
   "cell_type": "code",
   "execution_count": 36,
   "id": "d4d50a8a",
   "metadata": {},
   "outputs": [
    {
     "name": "stdout",
     "output_type": "stream",
     "text": [
      "http://api.exchangeratesapi.io/latest/2009-07-03?base=GBP&symbols=USD?access_key=bedaf7da3075704720b45ba2e69024c9\n"
     ]
    }
   ],
   "source": [
    "params_url = url + \"/\" + date + \"?base=\" + base + \"&symbols=\" + curr + \"?access_key=bedaf7da3075704720b45ba2e69024c9\"\n",
    "data = requests.get(params_url)\n",
    "print(params_url)"
   ]
  },
  {
   "cell_type": "code",
   "execution_count": 39,
   "id": "c1d912e9",
   "metadata": {},
   "outputs": [
    {
     "ename": "KeyError",
     "evalue": "'rate'",
     "output_type": "error",
     "traceback": [
      "\u001b[0;31m---------------------------------------------------------------------------\u001b[0m",
      "\u001b[0;31mKeyError\u001b[0m                                  Traceback (most recent call last)",
      "Cell \u001b[0;32mIn[39], line 6\u001b[0m\n\u001b[1;32m      4\u001b[0m \u001b[38;5;28;01melse\u001b[39;00m: \n\u001b[1;32m      5\u001b[0m     content \u001b[38;5;241m=\u001b[39m data\u001b[38;5;241m.\u001b[39mjson()\n\u001b[0;32m----> 6\u001b[0m     rate \u001b[38;5;241m=\u001b[39m content[\u001b[38;5;124m'\u001b[39m\u001b[38;5;124mrate\u001b[39m\u001b[38;5;124m'\u001b[39m][curr]\n\u001b[1;32m      7\u001b[0m     result \u001b[38;5;241m=\u001b[39m quan\u001b[38;5;241m*\u001b[39mrate\n\u001b[1;32m      8\u001b[0m     \u001b[38;5;28mprint\u001b[39m(\u001b[38;5;124m\"\u001b[39m\u001b[38;5;130;01m\\n\u001b[39;00m\u001b[38;5;132;01m{0}\u001b[39;00m\u001b[38;5;124m \u001b[39m\u001b[38;5;132;01m{1}\u001b[39;00m\u001b[38;5;124m is equal to \u001b[39m\u001b[38;5;132;01m{2}\u001b[39;00m\u001b[38;5;124m \u001b[39m\u001b[38;5;132;01m{3}\u001b[39;00m\u001b[38;5;124m, based upon exchange rates on \u001b[39m\u001b[38;5;132;01m{4}\u001b[39;00m\u001b[38;5;124m\"\u001b[39m\u001b[38;5;241m.\u001b[39mformat(quan, base, result, curr, content[\u001b[38;5;124m'\u001b[39m\u001b[38;5;124mdate\u001b[39m\u001b[38;5;124m'\u001b[39m]))\n",
      "\u001b[0;31mKeyError\u001b[0m: 'rate'"
     ]
    }
   ],
   "source": [
    "if(data.ok is False):\n",
    "    print(\"\\nError {}: \".format(data.status_code))\n",
    "    print(data.json()['error'])\n",
    "else: \n",
    "    content = data.json()\n",
    "    rate = content['rates'][curr]\n",
    "    result = quan*rate\n",
    "    print(\"\\n{0} {1} is equal to {2} {3}, based upon exchange rates on {4}\".format(quan, base, result, curr, content['date']))"
   ]
  },
  {
   "cell_type": "code",
   "execution_count": null,
   "id": "a1054f77",
   "metadata": {},
   "outputs": [],
   "source": []
  },
  {
   "cell_type": "code",
   "execution_count": null,
   "id": "b36c88b0",
   "metadata": {},
   "outputs": [],
   "source": []
  },
  {
   "cell_type": "code",
   "execution_count": null,
   "id": "8bb28866",
   "metadata": {},
   "outputs": [],
   "source": []
  },
  {
   "cell_type": "code",
   "execution_count": null,
   "id": "74b82a15",
   "metadata": {},
   "outputs": [],
   "source": []
  },
  {
   "cell_type": "code",
   "execution_count": null,
   "id": "b5fd33ac",
   "metadata": {},
   "outputs": [],
   "source": []
  },
  {
   "cell_type": "code",
   "execution_count": null,
   "id": "1db39137",
   "metadata": {},
   "outputs": [],
   "source": []
  },
  {
   "cell_type": "code",
   "execution_count": null,
   "id": "a343c8f9",
   "metadata": {},
   "outputs": [],
   "source": []
  },
  {
   "cell_type": "code",
   "execution_count": null,
   "id": "17d8380f",
   "metadata": {},
   "outputs": [],
   "source": []
  }
 ],
 "metadata": {
  "kernelspec": {
   "display_name": "Python 3 (ipykernel)",
   "language": "python",
   "name": "python3"
  },
  "language_info": {
   "codemirror_mode": {
    "name": "ipython",
    "version": 3
   },
   "file_extension": ".py",
   "mimetype": "text/x-python",
   "name": "python",
   "nbconvert_exporter": "python",
   "pygments_lexer": "ipython3",
   "version": "3.11.5"
  }
 },
 "nbformat": 4,
 "nbformat_minor": 5
}
